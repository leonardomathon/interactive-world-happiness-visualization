{
 "metadata": {
  "language_info": {
   "codemirror_mode": {
    "name": "ipython",
    "version": 3
   },
   "file_extension": ".py",
   "mimetype": "text/x-python",
   "name": "python",
   "nbconvert_exporter": "python",
   "pygments_lexer": "ipython3",
   "version": "3.8.2-final"
  },
  "orig_nbformat": 2,
  "kernelspec": {
   "name": "python3",
   "display_name": "Python 3",
   "language": "python"
  }
 },
 "nbformat": 4,
 "nbformat_minor": 2,
 "cells": [
  {
   "cell_type": "code",
   "execution_count": 5,
   "metadata": {},
   "outputs": [],
   "source": [
    "# basic modules\n",
    "import pandas as pd\n",
    "import numpy as np\n",
    "import json\n",
    "import glob\n",
    "import os\n"
   ]
  },
  {
   "cell_type": "code",
   "execution_count": 6,
   "metadata": {},
   "outputs": [],
   "source": [
    "# Get absolute path\n",
    "script_location = os.path.abspath('')\n",
    "\n",
    "# Get data set file paths\n",
    "data_2015 = os.path.join(script_location, '../datasets/original/2015.csv')\n",
    "data_2016 = os.path.join(script_location, '../datasets/original/2016.csv')\n",
    "data_2017 = os.path.join(script_location, '../datasets/original/2017.csv')\n",
    "data_2018 = os.path.join(script_location, '../datasets/original/2018.csv')\n",
    "data_2019 = os.path.join(script_location, '../datasets/original/2019.csv')\n",
    "data_2020 = os.path.join(script_location, '../datasets/original/2020.csv')\n"
   ]
  },
  {
   "cell_type": "code",
   "execution_count": 7,
   "metadata": {},
   "outputs": [],
   "source": [
    "# Create dataframes, rename the columns\n",
    "df_2015 = pd.read_csv(data_2015).assign(Year='2015')\n",
    "df_2015.rename(columns= {\"Health (Life Expectancy)\": \"Healthy life expectancy\", \"Freedom\": \"Freedom to make life choices\"}, inplace = True)\n",
    "\n",
    "df_2016 = pd.read_csv(data_2016).assign(Year='2016')\n",
    "df_2016.rename(columns= {\"Health (Life Expectancy)\": \"Healthy life expectancy\", \"Freedom\": \"Freedom to make life choices\"}, inplace = True)\n",
    "\n",
    "df_2017 = pd.read_csv(data_2017).assign(Year='2017')\n",
    "df_2017.rename(columns= {\"Happiness.Score\": \"Happiness Score\", \"Happiness.Rank\": \"Happiness Rank\", \"Economy..GDP.per.Capita.\": \"Economy (GDP per Capita)\", \"Health..Life.Expectancy.\": \"Healthy life expectancy\", \"Freedom\": \"Freedom to make life choices\", \"Trust..Government.Corruption.\": \"Trust (Government Corruption)\"}, inplace = True)\n",
    "\n",
    "df_2018 = pd.read_csv(data_2018).assign(Year='2018')\n",
    "df_2018.rename(columns= {\"Score\": \"Happiness Score\", \"Country or region\": \"Country\", \"Overall rank\": \"Happiness Rank\", \"GDP per capita\": \"Economy (GDP per Capita)\", \"Perceptions of corruption\": \"Trust (Government Corruption)\"}, inplace = True)\n",
    "\n",
    "df_2019 = pd.read_csv(data_2019).assign(Year='2019')\n",
    "df_2019.rename(columns= {\"Score\": \"Happiness Score\", \"Country or region\": \"Country\" , \"Overall rank\": \"Happiness Rank\", \"GDP per capita\": \"Economy (GDP per Capita)\", \"Perceptions of corruption\": \"Trust (Government Corruption)\"}, inplace = True)\n",
    "\n",
    "# Healthy life expectancy\n",
    "df_2020 = pd.read_csv(data_2020).assign(Year='2020')\n",
    "df_2020.rename(columns= {\"Ladder score\": \"Happiness Score\", \"Country name\": \"Country\", \"Explained by: Log GDP per capita\": \"Economy (GDP per Capita)\", \"Regional indicator\": \"Region\", \"Explained by: Perceptions of corruption\": \"Trust (Government Corruption)\", \"Healthy life expectancy\": \"Wrong Healthy life expectancy\", \"Explained by: Healthy life expectancy\": \"Healthy life expectancy\", \"Generosity\": \"Wrong Generosity\", \"Explained by: Generosity\": \"Generosity\", \"Freedom to make life choices\": \"Wrong Freedom to make life choices\", \"Explained by: Freedom to make life choices\": \"Freedom to make life choices\"}, inplace = True)\n",
    "df_2020[\"Happiness Rank\"] = np.arange(len(df_2020)) + 1\n"
   ]
  },
  {
   "cell_type": "code",
   "execution_count": 8,
   "metadata": {},
   "outputs": [
    {
     "output_type": "stream",
     "name": "stdout",
     "text": [
      "2015\nIndex(['Country', 'Region', 'Happiness Rank', 'Happiness Score',\n       'Standard Error', 'Economy (GDP per Capita)', 'Family',\n       'Healthy life expectancy', 'Freedom to make life choices',\n       'Trust (Government Corruption)', 'Generosity', 'Dystopia Residual',\n       'Year'],\n      dtype='object')\n\n2016\nIndex(['Country', 'Region', 'Happiness Rank', 'Happiness Score',\n       'Lower Confidence Interval', 'Upper Confidence Interval',\n       'Economy (GDP per Capita)', 'Family', 'Healthy life expectancy',\n       'Freedom to make life choices', 'Trust (Government Corruption)',\n       'Generosity', 'Dystopia Residual', 'Year'],\n      dtype='object')\n\n2017\nIndex(['Country', 'Happiness Rank', 'Happiness Score', 'Whisker.high',\n       'Whisker.low', 'Economy (GDP per Capita)', 'Family',\n       'Healthy life expectancy', 'Freedom to make life choices', 'Generosity',\n       'Trust (Government Corruption)', 'Dystopia.Residual', 'Year'],\n      dtype='object')\n\n2018\nIndex(['Happiness Rank', 'Country', 'Happiness Score',\n       'Economy (GDP per Capita)', 'Social support', 'Healthy life expectancy',\n       'Freedom to make life choices', 'Generosity',\n       'Trust (Government Corruption)', 'Year'],\n      dtype='object')\n\n2019\nIndex(['Happiness Rank', 'Country', 'Happiness Score',\n       'Economy (GDP per Capita)', 'Social support', 'Healthy life expectancy',\n       'Freedom to make life choices', 'Generosity',\n       'Trust (Government Corruption)', 'Year'],\n      dtype='object')\n\n2020\nIndex(['Country', 'Region', 'Happiness Score',\n       'Standard error of ladder score', 'upperwhisker', 'lowerwhisker',\n       'Logged GDP per capita', 'Social support',\n       'Wrong Healthy life expectancy', 'Wrong Freedom to make life choices',\n       'Wrong Generosity', 'Perceptions of corruption',\n       'Ladder score in Dystopia', 'Economy (GDP per Capita)',\n       'Explained by: Social support', 'Healthy life expectancy',\n       'Freedom to make life choices', 'Generosity',\n       'Trust (Government Corruption)', 'Dystopia + residual', 'Year',\n       'Happiness Rank'],\n      dtype='object')\n\n"
     ]
    }
   ],
   "source": [
    "# Print\n",
    "df = [df_2015, df_2016, df_2017, df_2018, df_2019, df_2020]\n",
    "year = 2015\n",
    "for frame in df:\n",
    "    print(year)\n",
    "    print(frame.columns)\n",
    "    print()\n",
    "    year += 1"
   ]
  },
  {
   "cell_type": "code",
   "execution_count": 9,
   "metadata": {},
   "outputs": [],
   "source": [
    "# Add region to data sets 2017, 2018, 2019\n",
    "# Set index to country for all dataframes\n",
    "df_country_region = df_2015[[\"Country\", \"Region\"]]\n",
    "\n",
    "\n",
    "df_2015 = df_2015.set_index([\"Country\", \"Year\"])\n",
    "df_2016 = df_2016.set_index([\"Country\", \"Year\"])\n",
    "df_2017 = df_country_region.join(df_2017.set_index(\"Country\"), on=\"Country\").sort_values(by=[\"Happiness Score\"], ascending = False).set_index([\"Country\", \"Year\"])\n",
    "df_2018 = df_country_region.join(df_2018.set_index(\"Country\"), on=\"Country\").sort_values(by=[\"Happiness Score\"], ascending = False).set_index([\"Country\", \"Year\"])\n",
    "df_2019 = df_country_region.join(df_2019.set_index(\"Country\"), on=\"Country\").sort_values(by=[\"Happiness Score\"], ascending = False).set_index([\"Country\", \"Year\"])\n",
    "df_2020 = df_2020.set_index([\"Country\", \"Year\"])\n"
   ]
  },
  {
   "cell_type": "code",
   "execution_count": 10,
   "metadata": {},
   "outputs": [],
   "source": [
    "# Merge all datasets into a single dataset\n",
    "matching_columns = [\"Region\", \"Happiness Rank\", \"Happiness Score\", \"Economy (GDP per Capita)\", \"Freedom to make life choices\", \"Healthy life expectancy\", \"Generosity\", \"Trust (Government Corruption)\"]\n",
    "\n",
    "data = pd.concat([df_2015[matching_columns], df_2016[matching_columns], df_2017[matching_columns], df_2018[matching_columns], df_2019[matching_columns], df_2020[matching_columns]])\n",
    "\n",
    "data.to_csv(os.path.join(script_location, '../datasets/cleaned-data.csv'))"
   ]
  },
  {
   "cell_type": "code",
   "execution_count": 11,
   "metadata": {},
   "outputs": [
    {
     "output_type": "execute_result",
     "data": {
      "text/plain": [
       "                          Region  Happiness Rank  Happiness Score  \\\n",
       "Country     Year                                                    \n",
       "Switzerland 2015  Western Europe             1.0           7.5870   \n",
       "            2016  Western Europe             2.0           7.5090   \n",
       "            2017  Western Europe             4.0           7.4940   \n",
       "            2018  Western Europe             5.0           7.4870   \n",
       "            2019  Western Europe             6.0           7.4800   \n",
       "            2020  Western Europe             3.0           7.5599   \n",
       "\n",
       "                  Economy (GDP per Capita)  Freedom to make life choices  \\\n",
       "Country     Year                                                           \n",
       "Switzerland 2015                  1.396510                      0.665570   \n",
       "            2016                  1.527330                      0.585570   \n",
       "            2017                  1.564980                      0.620071   \n",
       "            2018                  1.420000                      0.660000   \n",
       "            2019                  1.452000                      0.572000   \n",
       "            2020                  1.390774                      0.628954   \n",
       "\n",
       "                  Healthy life expectancy  Generosity  \\\n",
       "Country     Year                                        \n",
       "Switzerland 2015                 0.941430    0.296780   \n",
       "            2016                 0.863030    0.280830   \n",
       "            2017                 0.858131    0.290549   \n",
       "            2018                 0.927000    0.256000   \n",
       "            2019                 1.052000    0.263000   \n",
       "            2020                 1.040533    0.269056   \n",
       "\n",
       "                  Trust (Government Corruption)  \n",
       "Country     Year                                 \n",
       "Switzerland 2015                       0.419780  \n",
       "            2016                       0.412030  \n",
       "            2017                       0.367007  \n",
       "            2018                       0.357000  \n",
       "            2019                       0.343000  \n",
       "            2020                       0.407946  "
      ],
      "text/html": "<div>\n<style scoped>\n    .dataframe tbody tr th:only-of-type {\n        vertical-align: middle;\n    }\n\n    .dataframe tbody tr th {\n        vertical-align: top;\n    }\n\n    .dataframe thead th {\n        text-align: right;\n    }\n</style>\n<table border=\"1\" class=\"dataframe\">\n  <thead>\n    <tr style=\"text-align: right;\">\n      <th></th>\n      <th></th>\n      <th>Region</th>\n      <th>Happiness Rank</th>\n      <th>Happiness Score</th>\n      <th>Economy (GDP per Capita)</th>\n      <th>Freedom to make life choices</th>\n      <th>Healthy life expectancy</th>\n      <th>Generosity</th>\n      <th>Trust (Government Corruption)</th>\n    </tr>\n    <tr>\n      <th>Country</th>\n      <th>Year</th>\n      <th></th>\n      <th></th>\n      <th></th>\n      <th></th>\n      <th></th>\n      <th></th>\n      <th></th>\n      <th></th>\n    </tr>\n  </thead>\n  <tbody>\n    <tr>\n      <th rowspan=\"6\" valign=\"top\">Switzerland</th>\n      <th>2015</th>\n      <td>Western Europe</td>\n      <td>1.0</td>\n      <td>7.5870</td>\n      <td>1.396510</td>\n      <td>0.665570</td>\n      <td>0.941430</td>\n      <td>0.296780</td>\n      <td>0.419780</td>\n    </tr>\n    <tr>\n      <th>2016</th>\n      <td>Western Europe</td>\n      <td>2.0</td>\n      <td>7.5090</td>\n      <td>1.527330</td>\n      <td>0.585570</td>\n      <td>0.863030</td>\n      <td>0.280830</td>\n      <td>0.412030</td>\n    </tr>\n    <tr>\n      <th>2017</th>\n      <td>Western Europe</td>\n      <td>4.0</td>\n      <td>7.4940</td>\n      <td>1.564980</td>\n      <td>0.620071</td>\n      <td>0.858131</td>\n      <td>0.290549</td>\n      <td>0.367007</td>\n    </tr>\n    <tr>\n      <th>2018</th>\n      <td>Western Europe</td>\n      <td>5.0</td>\n      <td>7.4870</td>\n      <td>1.420000</td>\n      <td>0.660000</td>\n      <td>0.927000</td>\n      <td>0.256000</td>\n      <td>0.357000</td>\n    </tr>\n    <tr>\n      <th>2019</th>\n      <td>Western Europe</td>\n      <td>6.0</td>\n      <td>7.4800</td>\n      <td>1.452000</td>\n      <td>0.572000</td>\n      <td>1.052000</td>\n      <td>0.263000</td>\n      <td>0.343000</td>\n    </tr>\n    <tr>\n      <th>2020</th>\n      <td>Western Europe</td>\n      <td>3.0</td>\n      <td>7.5599</td>\n      <td>1.390774</td>\n      <td>0.628954</td>\n      <td>1.040533</td>\n      <td>0.269056</td>\n      <td>0.407946</td>\n    </tr>\n  </tbody>\n</table>\n</div>"
     },
     "metadata": {},
     "execution_count": 11
    }
   ],
   "source": [
    "# Select one country to see its development\n",
    "data.iloc[data.index.get_level_values(\"Country\") == \"Switzerland\"]"
   ]
  }
 ]
}